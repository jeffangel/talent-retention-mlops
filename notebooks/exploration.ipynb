{
 "cells": [
  {
   "cell_type": "code",
   "execution_count": 2,
   "id": "20468bb6",
   "metadata": {},
   "outputs": [
    {
     "data": {
      "text/plain": [
       "ListSecretsResponse(secrets=[BaseSecret(id='c3eae326-5c71-4521-b840-389ed6c1c8b6', _id='c3eae326-5c71-4521-b840-389ed6c1c8b6', workspace='b1cdadbc-d829-4cad-ad6d-b7ecf4a8e0ed', environment='dev', version=3, type='shared', secretKey='MYSQL_ROOT_PASSWORD', secretValue='password1', secretComment='', createdAt='2025-05-08T22:44:58.562Z', updatedAt='2025-05-08T23:56:41.887Z', secretMetadata=[], secretValueHidden=False, secretReminderNote=None, secretReminderRepeatDays=None, skipMultilineEncoding=False, metadata=None, secretPath='/', tags=[{'id': '29db1fe3-2212-4cf0-9543-e16214867e12', 'slug': 'v1', 'color': '', 'name': 'v1'}])], imports=[])"
      ]
     },
     "execution_count": 2,
     "metadata": {},
     "output_type": "execute_result"
    }
   ],
   "source": [
    "from infisical_sdk import InfisicalSDKClient\n",
    "\n",
    "with open(\"/code/dissertation-msc/.infisical_token\") as f:\n",
    "    token = f.read().strip()\n",
    "\n",
    "client = InfisicalSDKClient(\n",
    "    host=\"http://localhost\",\n",
    "    token=token,\n",
    "    cache_ttl=300\n",
    ")\n",
    "\n",
    "client.secrets.list_secrets(project_id=\"dissertation\", environment_slug=\"dev\", secret_path=\"/\")"
   ]
  },
  {
   "cell_type": "code",
   "execution_count": null,
   "id": "927aa009",
   "metadata": {},
   "outputs": [],
   "source": [
    "# Install dependencies as needed:\n",
    "# pip install kagglehub[pandas-datasets]\n",
    "import kagglehub\n",
    "from kagglehub import KaggleDatasetAdapter\n",
    "\n",
    "# Set the path to the file you'd like to load\n",
    "file_path = \"\"\n",
    "\n",
    "# Load the latest version\n",
    "df = kagglehub.load_dataset(\n",
    "  KaggleDatasetAdapter.PANDAS,\n",
    "  \"pavansubhasht/ibm-hr-analytics-attrition-dataset\",\n",
    "  file_path,\n",
    "  # Provide any additional arguments like \n",
    "  # sql_query or pandas_kwargs. See the \n",
    "  # documenation for more information:\n",
    "  # https://github.com/Kaggle/kagglehub/blob/main/README.md#kaggledatasetadapterpandas\n",
    "  # https://www.kaggle.com/datasets/pavansubhasht/ibm-hr-analytics-attrition-dataset/data\n",
    ")\n",
    "\n",
    "print(\"First 5 records:\", df.head())"
   ]
  }
 ],
 "metadata": {
  "kernelspec": {
   "display_name": ".venv",
   "language": "python",
   "name": "python3"
  },
  "language_info": {
   "codemirror_mode": {
    "name": "ipython",
    "version": 3
   },
   "file_extension": ".py",
   "mimetype": "text/x-python",
   "name": "python",
   "nbconvert_exporter": "python",
   "pygments_lexer": "ipython3",
   "version": "3.11.0"
  }
 },
 "nbformat": 4,
 "nbformat_minor": 5
}
